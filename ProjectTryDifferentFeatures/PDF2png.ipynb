{
 "cells": [
  {
   "cell_type": "code",
   "execution_count": 5,
   "metadata": {},
   "outputs": [],
   "source": [
    "from wand.image import Image\n",
    "\n",
    "diag='Dengue_DLNM_Images_State3.pdf'\n",
    "name = \"Dengue_DLNM_Images_State3\"\n",
    "\n",
    "with(Image(filename=diag,resolution=200)) as source:\n",
    "    images=source.sequence\n",
    "    pages=len(images)\n",
    "    for i in range(pages):\n",
    "        Image(images[i]).save(filename = name+'_'+str(i)+'.png')"
   ]
  },
  {
   "cell_type": "code",
   "execution_count": null,
   "metadata": {
    "collapsed": true
   },
   "outputs": [],
   "source": []
  }
 ],
 "metadata": {
  "kernelspec": {
   "display_name": "Python 3",
   "language": "python",
   "name": "python3"
  },
  "language_info": {
   "codemirror_mode": {
    "name": "ipython",
    "version": 3
   },
   "file_extension": ".py",
   "mimetype": "text/x-python",
   "name": "python",
   "nbconvert_exporter": "python",
   "pygments_lexer": "ipython3",
   "version": "3.6.1"
  }
 },
 "nbformat": 4,
 "nbformat_minor": 2
}
