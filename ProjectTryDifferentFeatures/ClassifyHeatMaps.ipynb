{
 "cells": [
  {
   "cell_type": "code",
   "execution_count": 2,
   "metadata": {
    "collapsed": true
   },
   "outputs": [],
   "source": [
    "def convert_rgb_hsl(r,g,b):\n",
    "    R = r / 255\n",
    "    G = g / 255\n",
    "    B = b / 255\n",
    "    minimum = min([R,G,B])\n",
    "    maximum = max([R,G,B])\n",
    "    l = ((minimum+maximum)/2)*100\n",
    "    if l>50:\n",
    "        s = ((maximum-minimum)/(2.0-maximum-minimum))*100\n",
    "    else:\n",
    "        s = ((maximum-minimum)/(maximum+minimum))*100\n",
    "\n",
    "    if maximum == R:\n",
    "        h = ((G-B)/(maximum-minimum))*60\n",
    "    elif maximum == G:\n",
    "        h = (2.0 + ((B-R)/(maximum-minimum)))*60\n",
    "    else:\n",
    "        h = (4.0 + ((R-G)/(maximum-minimum)))*60\n",
    "    return (h,s,l)"
   ]
  },
  {
   "cell_type": "code",
   "execution_count": 98,
   "metadata": {},
   "outputs": [],
   "source": [
    "def Read_Image(filename):\n",
    "    im = Image.open(filename)\n",
    "    pixel_values = list(im.getdata())\n",
    "    #im.show()\n",
    "    #print(pixel_values)\n",
    "    dict_colors = {}\n",
    "    for pixel in pixel_values:\n",
    "        if pixel not in dict_colors:\n",
    "            dict_colors[pixel] = 1\n",
    "        else:\n",
    "            dict_colors[pixel] += 1\n",
    "    blue_red = [0,0] #store number of blues (0) and reds (1)\n",
    "    for key in dict_colors.keys():\n",
    "        if  dict_colors[key] > 20 and key != (255,255,255,255) and key != (0,0,0,255)and key[0]!=key[2]:\n",
    "            (h,s,l) = convert_rgb_hsl(key[0], key[1], key[2])\n",
    "            if l> 20:\n",
    "                if h>(170) and h<(300):#color is blue\n",
    "                    #print(key)\n",
    "                    #print('h = '+ str(h))\n",
    "                    #print('s = '+ str(s))\n",
    "                    #print('l = '+ str(l))\n",
    "                    blue_red[0] +=1\n",
    "                else:#color is red\n",
    "                    blue_red[1] +=1\n",
    "    return blue_red\n",
    "        "
   ]
  },
  {
   "cell_type": "code",
   "execution_count": 99,
   "metadata": {
    "collapsed": true
   },
   "outputs": [],
   "source": [
    "def getFeatures(file_list):\n",
    "    feature_list =[[]]*len(file_list)\n",
    "    counter = 0\n",
    "    for file in file_list:\n",
    "        example = Read_Image(file)\n",
    "        feature_list[counter]=example\n",
    "        counter+=1\n",
    "    return feature_list"
   ]
  },
  {
   "cell_type": "code",
   "execution_count": 100,
   "metadata": {
    "collapsed": true
   },
   "outputs": [],
   "source": [
    "def getTrainingLabels(file_list):\n",
    "    labels = file_list\n",
    "    counter = 0\n",
    "    for file in file_list:\n",
    "        im = Image.open(file)\n",
    "        im.show()\n",
    "        labels[counter] = input(\"Label: \")\n",
    "        counter += 1\n",
    "    return labels\n",
    "        "
   ]
  },
  {
   "cell_type": "code",
   "execution_count": 101,
   "metadata": {},
   "outputs": [
    {
     "name": "stdout",
     "output_type": "stream",
     "text": [
      "[[58, 160], [78, 66], [37, 110], [43, 153], [232, 21], [171, 69], [138, 219], [23, 136], [186, 84], [191, 70], [22, 194], [23, 152], [28, 421], [41, 100], [44, 64], [40, 75], [45, 69], [24, 392], [11, 349], [57, 55], [73, 62], [135, 209], [82, 135], [44, 188], [55, 133], [309, 16], [41, 220], [49, 207], [42, 180], [36, 278], [209, 12], [259, 12], [255, 13], [87, 58], [269, 22], [33, 242], [13, 108], [47, 100], [50, 78], [78, 223], [32, 63], [32, 48], [34, 41], [220, 23], [17, 153], [45, 85], [56, 75], [57, 59], [12, 154], [30, 117], [12, 198], [22, 209], [10, 82], [14, 99], [32, 95], [36, 214], [42, 132], [75, 189], [191, 155], [307, 40], [298, 37], [84, 110], [108, 91], [129, 54], [66, 122], [47, 240], [19, 230], [30, 226], [34, 328], [38, 337], [23, 138], [68, 121], [52, 110], [76, 52], [49, 57], [38, 58], [45, 144], [125, 156], [241, 91], [139, 157], [42, 81], [21, 181], [30, 194], [33, 113], [38, 123], [201, 11], [43, 78], [50, 58], [46, 50], [51, 140], [122, 94], [46, 81], [54, 79], [198, 23], [75, 118], [92, 133], [264, 37], [252, 27], [229, 64], [21, 57], [243, 34], [145, 42], [22, 210], [19, 118], [16, 97], [65, 122], [174, 78], [243, 13], [239, 13], [208, 13], [26, 296], [212, 11], [99, 45], [199, 79], [61, 160], [10, 186], [275, 12], [32, 203], [47, 301], [55, 121], [39, 196], [56, 75], [108, 145], [179, 103], [16, 151], [44, 141], [37, 137], [284, 12], [34, 228], [218, 56], [123, 59], [48, 96], [109, 161], [209, 48], [111, 91], [35, 93], [73, 224], [93, 154], [42, 49], [46, 74], [30, 94], [181, 70], [47, 74], [46, 69], [21, 98], [21, 129], [57, 167], [61, 220], [2, 237], [34, 285], [34, 186], [69, 134], [42, 266], [47, 244], [6, 269], [4, 142], [141, 64], [21, 85], [13, 119], [13, 54], [22, 96], [10, 59], [12, 67], [9, 40], [18, 63], [40, 181], [124, 143], [8, 38], [70, 81], [17, 79], [2, 193], [13, 133], [19, 125], [62, 216], [18, 137], [27, 152], [18, 239], [14, 157], [32, 216], [200, 15], [191, 7], [191, 44], [45, 86], [42, 155], [58, 206], [21, 228], [63, 276], [0, 122], [4, 191], [106, 114], [4, 190], [41, 163], [0, 242], [0, 246], [7, 191], [16, 275], [58, 108], [96, 163], [80, 125], [44, 174], [65, 129], [3, 127], [19, 139], [14, 179], [15, 106], [4, 214], [21, 141], [16, 133], [20, 163], [286, 0], [269, 9], [12, 119], [259, 13], [197, 90], [127, 56], [93, 118]]\n",
      "Label: okay\n",
      "Label: good\n",
      "Label: okay\n",
      "Label: okay\n",
      "Label: good\n",
      "Label: good\n",
      "Label: good\n",
      "Label: okay\n",
      "Label: good\n",
      "Label: good\n",
      "Label: good\n",
      "Label: okay\n",
      "Label: good\n",
      "Label: okay\n",
      "Label: bad\n",
      "Label: bad\n",
      "Label: bad\n",
      "Label: good\n",
      "Label: good\n",
      "Label: okay\n",
      "Label: bad\n",
      "Label: good\n",
      "Label: okay\n",
      "Label: okay\n",
      "Label: okay\n",
      "Label: good\n",
      "Label: okay\n",
      "Label: okay\n",
      "Label: okay\n",
      "Label: okay\n",
      "Label: good\n",
      "Label: good\n",
      "Label: good\n",
      "Label: bad\n",
      "Label: good\n",
      "Label: good\n",
      "Label: okay\n",
      "Label: okay\n",
      "Label: okay\n",
      "Label: good\n",
      "Label: bad\n",
      "Label: bad\n",
      "Label: bad\n",
      "Label: good\n",
      "Label: good\n",
      "Label: okay\n",
      "Label: bad\n",
      "Label: bad\n",
      "Label: good\n",
      "Label: okay\n",
      "Label: good\n",
      "Label: good\n",
      "Label: okay\n",
      "Label: okay\n",
      "Label: okay\n",
      "Label: good\n",
      "Label: okay\n",
      "Label: good\n",
      "Label: good\n",
      "Label: good\n",
      "Label: good\n",
      "Label: good\n",
      "Label: good\n",
      "Label: good\n",
      "Label: good\n",
      "Label: good\n",
      "Label: okay\n",
      "Label: good\n",
      "Label: good\n",
      "Label: good\n",
      "Label: okay\n",
      "Label: good\n",
      "Label: okay\n",
      "Label: good\n",
      "Label: okay\n",
      "Label: okay\n",
      "Label: good\n",
      "Label: good\n",
      "Label: good\n",
      "Label: good\n",
      "Label: good\n",
      "Label: good\n",
      "Label: okay\n",
      "Label: okay\n",
      "Label: okay\n",
      "Label: good\n",
      "Label: okay\n",
      "Label: okay\n",
      "Label: okay\n",
      "Label: good\n",
      "Label: good\n",
      "Label: okay\n",
      "Label: okay\n",
      "Label: good\n",
      "Label: okay\n",
      "Label: good\n",
      "Label: good\n",
      "Label: good\n",
      "Label: good\n",
      "Label: okay\n",
      "Label: good\n",
      "Label: good\n",
      "Label: good\n",
      "Label: okay\n",
      "Label: okay\n",
      "Label: okay\n",
      "Label: good\n",
      "Label: good\n",
      "Label: good\n",
      "Label: good\n",
      "Label: good\n",
      "Label: good\n",
      "Label: okay\n",
      "Label: good\n",
      "Label: okay\n",
      "Label: good\n",
      "Label: good\n",
      "Label: good\n",
      "Label: good\n",
      "Label: okay\n",
      "Label: good\n",
      "Label: good\n",
      "Label: good\n",
      "Label: good\n",
      "Label: good\n",
      "Label: good\n",
      "Label: good\n",
      "Label: good\n",
      "Label: good\n",
      "Label: good\n",
      "Label: good\n",
      "Label: okay\n",
      "Label: good\n",
      "Label: good\n",
      "Label: okay\n",
      "Label: okay\n",
      "Label: good\n",
      "Label: good\n",
      "Label: bad\n",
      "Label: okay\n",
      "Label: okay\n",
      "Label: good\n",
      "Label: bad\n",
      "Label: okay\n",
      "Label: okay\n",
      "Label: good\n",
      "Label: good\n",
      "Label: good\n",
      "Label: good\n",
      "Label: good\n",
      "Label: good\n",
      "Label: good\n",
      "Label: good\n",
      "Label: good\n",
      "Label: good\n",
      "Label: okay\n",
      "Label: good\n",
      "Label: okay\n",
      "Label: okay\n",
      "Label: bad\n",
      "Label: okay\n",
      "Label: okay\n",
      "Label: bad\n",
      "Label: bad\n",
      "Label: okay\n",
      "Label: good\n",
      "Label: good\n",
      "Label: bad\n",
      "Label: good\n",
      "Label: okay\n",
      "Label: good\n",
      "Label: good\n",
      "Label: okay\n",
      "Label: good\n",
      "Label: okay\n",
      "Label: okay\n",
      "Label: good\n",
      "Label: good\n",
      "Label: good\n",
      "Label: good\n",
      "Label: good\n",
      "Label: good\n",
      "Label: okay\n",
      "Label: good\n",
      "Label: good\n",
      "Label: good\n",
      "Label: good\n",
      "Label: good\n",
      "Label: good\n",
      "Label: good\n",
      "Label: good\n",
      "Label: good\n",
      "Label: good\n",
      "Label: good\n",
      "Label: good\n",
      "Label: good\n",
      "Label: okay\n",
      "Label: good\n",
      "Label: good\n",
      "Label: good\n",
      "Label: good\n",
      "Label: good\n",
      "Label: okay\n",
      "Label: okay\n",
      "Label: okay\n",
      "Label: good\n",
      "Label: okay\n",
      "Label: okay\n",
      "Label: okay\n",
      "Label: good\n",
      "Label: good\n",
      "Label: okay\n",
      "Label: good\n",
      "Label: good\n",
      "Label: good\n",
      "Label: good\n"
     ]
    }
   ],
   "source": [
    "import os\n",
    "import numpy as np\n",
    "from PIL import Image\n",
    "file_list = os.listdir(os.curdir)\n",
    "file_list = file_list[2:(len(file_list)-1)]\n",
    "x = getFeatures(file_list)\n",
    "print(x)\n",
    "y = getTrainingLabels(file_list) #optional for labeling data by hand"
   ]
  },
  {
   "cell_type": "code",
   "execution_count": 102,
   "metadata": {},
   "outputs": [
    {
     "name": "stdout",
     "output_type": "stream",
     "text": [
      "['okay', 'good', 'okay', 'okay', 'good', 'good', 'good', 'okay', 'good', 'good', 'good', 'okay', 'good', 'okay', 'bad', 'bad', 'bad', 'good', 'good', 'okay', 'bad', 'good', 'okay', 'okay', 'okay', 'good', 'okay', 'okay', 'okay', 'okay', 'good', 'good', 'good', 'bad', 'good', 'good', 'okay', 'okay', 'okay', 'good', 'bad', 'bad', 'bad', 'good', 'good', 'okay', 'bad', 'bad', 'good', 'okay', 'good', 'good', 'okay', 'okay', 'okay', 'good', 'okay', 'good', 'good', 'good', 'good', 'good', 'good', 'good', 'good', 'good', 'okay', 'good', 'good', 'good', 'okay', 'good', 'okay', 'good', 'okay', 'okay', 'good', 'good', 'good', 'good', 'good', 'good', 'okay', 'okay', 'okay', 'good', 'okay', 'okay', 'okay', 'good', 'good', 'okay', 'okay', 'good', 'okay', 'good', 'good', 'good', 'good', 'okay', 'good', 'good', 'good', 'okay', 'okay', 'okay', 'good', 'good', 'good', 'good', 'good', 'good', 'okay', 'good', 'okay', 'good', 'good', 'good', 'good', 'okay', 'good', 'good', 'good', 'good', 'good', 'good', 'good', 'good', 'good', 'good', 'good', 'okay', 'good', 'good', 'okay', 'okay', 'good', 'good', 'bad', 'okay', 'okay', 'good', 'bad', 'okay', 'okay', 'good', 'good', 'good', 'good', 'good', 'good', 'good', 'good', 'good', 'good', 'okay', 'good', 'okay', 'okay', 'bad', 'okay', 'okay', 'bad', 'bad', 'okay', 'good', 'good', 'bad', 'good', 'okay', 'good', 'good', 'okay', 'good', 'okay', 'okay', 'good', 'good', 'good', 'good', 'good', 'good', 'okay', 'good', 'good', 'good', 'good', 'good', 'good', 'good', 'good', 'good', 'good', 'good', 'good', 'good', 'okay', 'good', 'good', 'good', 'good', 'good', 'okay', 'okay', 'okay', 'good', 'okay', 'okay', 'okay', 'good', 'good', 'okay', 'good', 'good', 'good', 'good']\n"
     ]
    }
   ],
   "source": [
    "print(y)"
   ]
  },
  {
   "cell_type": "code",
   "execution_count": 103,
   "metadata": {
    "collapsed": true
   },
   "outputs": [],
   "source": [
    "y = ['okay', 'good', 'okay', 'okay', 'good', 'good', 'good', 'okay', 'good', 'good', 'good', 'okay', 'good', 'okay', 'bad', 'bad', 'bad', 'good', 'good', 'okay', 'bad', 'good', 'okay', 'okay', 'okay', 'good', 'okay', 'okay', 'okay', 'okay', 'good', 'good', 'good', 'bad', 'good', 'good', 'okay', 'okay', 'okay', 'good', 'bad', 'bad', 'bad', 'good', 'good', 'okay', 'bad', 'bad', 'good', 'okay', 'good', 'good', 'okay', 'okay', 'okay', 'good', 'okay', 'good', 'good', 'good', 'good', 'good', 'good', 'good', 'good', 'good', 'okay', 'good', 'good', 'good', 'okay', 'good', 'okay', 'good', 'okay', 'okay', 'good', 'good', 'good', 'good', 'good', 'good', 'okay', 'okay', 'okay', 'good', 'okay', 'okay', 'okay', 'good', 'good', 'okay', 'okay', 'good', 'okay', 'good', 'good', 'good', 'good', 'okay', 'good', 'good', 'good', 'okay', 'okay', 'okay', 'good', 'good', 'good', 'good', 'good', 'good', 'okay', 'good', 'okay', 'good', 'good', 'good', 'good', 'okay', 'good', 'good', 'good', 'good', 'good', 'good', 'good', 'good', 'good', 'good', 'good', 'okay', 'good', 'good', 'okay', 'okay', 'good', 'good', 'bad', 'okay', 'okay', 'good', 'bad', 'okay', 'okay', 'good', 'good', 'good', 'good', 'good', 'good', 'good', 'good', 'good', 'good', 'okay', 'good', 'okay', 'okay', 'bad', 'okay', 'okay', 'bad', 'bad', 'okay', 'good', 'good', 'bad', 'good', 'okay', 'good', 'good', 'okay', 'good', 'okay', 'okay', 'good', 'good', 'good', 'good', 'good', 'good', 'okay', 'good', 'good', 'good', 'good', 'good', 'good', 'good', 'good', 'good', 'good', 'good', 'good', 'good', 'okay', 'good', 'good', 'good', 'good', 'good', 'okay', 'okay', 'okay', 'good', 'okay', 'okay', 'okay', 'good', 'good', 'okay', 'good', 'good', 'good', 'good']"
   ]
  },
  {
   "cell_type": "code",
   "execution_count": 137,
   "metadata": {},
   "outputs": [
    {
     "data": {
      "text/plain": [
       "KNeighborsClassifier(algorithm='auto', leaf_size=30, metric='minkowski',\n",
       "           metric_params=None, n_jobs=1, n_neighbors=3, p=2,\n",
       "           weights='uniform')"
      ]
     },
     "execution_count": 137,
     "metadata": {},
     "output_type": "execute_result"
    }
   ],
   "source": [
    "from sklearn.model_selection import train_test_split\n",
    "x_train, x_test, y_train, y_test = train_test_split(x, y, test_size=0.2)\n",
    "from sklearn.neighbors import KNeighborsClassifier\n",
    "knn = KNeighborsClassifier(n_neighbors=3)\n",
    "knn.fit(x_train, y_train)"
   ]
  },
  {
   "cell_type": "code",
   "execution_count": 152,
   "metadata": {},
   "outputs": [
    {
     "data": {
      "text/plain": [
       "0.75"
      ]
     },
     "execution_count": 152,
     "metadata": {},
     "output_type": "execute_result"
    }
   ],
   "source": [
    "from sklearn import metrics\n",
    "p = knn.predict(x_test)\n",
    "metrics.classification_report(p,y_test)\n",
    "metrics.accuracy_score(p,y_test)"
   ]
  },
  {
   "cell_type": "markdown",
   "metadata": {},
   "source": [
    "|     |  precision   | recall  |f1-score   | support |\n",
    "|-----|--------------|---------|-----------|---------|\n",
    "| bad |    1.00      |  0.83   |   0.91    |    6    |\n",
    "|-----|--------------|---------|-----------|---------|\n",
    "|good |    0.71      |  0.87   |   0.78    |    23   |\n",
    "|-----|--------------|---------|-----------|---------|\n",
    "|okay |    0.73      |  0.53   |   0.62    |    15   |\n",
    "|-----|--------------|---------|-----------|---------|\n",
    "|total|    0.76      |  0.75   |   0.74    |    44   |\n",
    "\n",
    "Accuracy Score = .75"
   ]
  },
  {
   "cell_type": "markdown",
   "metadata": {
    "collapsed": true
   },
   "source": [
    "One reason for innaccuracy is that classifications used for training are done bby hand and may be inconsistent."
   ]
  },
  {
   "cell_type": "code",
   "execution_count": 162,
   "metadata": {},
   "outputs": [
    {
     "name": "stdout",
     "output_type": "stream",
     "text": [
      "['good' 'good' 'good' 'good' 'good' 'good' 'good' 'good' 'good' 'good'\n",
      " 'good' 'good' 'good' 'good' 'good' 'good' 'good' 'good' 'good' 'good'\n",
      " 'good' 'good' 'good' 'good' 'good' 'good' 'good' 'good' 'good' 'good'\n",
      " 'good' 'good' 'good' 'good' 'good' 'good' 'good' 'good' 'good' 'good'\n",
      " 'good' 'good' 'good' 'good']\n",
      "['bad', 'good', 'okay', 'good', 'good', 'good', 'good', 'okay', 'good', 'good', 'good', 'good', 'good', 'good', 'okay', 'good', 'okay', 'okay', 'good', 'bad', 'good', 'good', 'good', 'good', 'good', 'okay', 'good', 'okay', 'good', 'okay', 'bad', 'good', 'okay', 'good', 'good', 'okay', 'bad', 'bad', 'good', 'okay', 'good', 'good', 'good', 'good']\n"
     ]
    },
    {
     "name": "stderr",
     "output_type": "stream",
     "text": [
      "/Users/erinstafford/anaconda3/lib/python3.6/site-packages/sklearn/metrics/classification.py:1115: UndefinedMetricWarning: Recall and F-score are ill-defined and being set to 0.0 in labels with no true samples.\n",
      "  'recall', 'true', average, warn_for)\n"
     ]
    },
    {
     "data": {
      "text/plain": [
       "0.63636363636363635"
      ]
     },
     "execution_count": 162,
     "metadata": {},
     "output_type": "execute_result"
    }
   ],
   "source": [
    "from sklearn import svm\n",
    "clf = svm.SVC(gamma=5, C=100000000)\n",
    "clf.fit(x_train, y_train)  \n",
    "p2 = clf.predict(x_test)\n",
    "print(p2)\n",
    "print(y_test)\n",
    "metrics.classification_report(p2,y_test)\n",
    "metrics.accuracy_score(p2, y_test)"
   ]
  },
  {
   "cell_type": "markdown",
   "metadata": {},
   "source": [
    "# SVM seems to predict all instances as 'good'"
   ]
  },
  {
   "cell_type": "markdown",
   "metadata": {},
   "source": [
    "|     |precision    |recall  |f1-score   |support|\n",
    "|-----|-------------|--------|-----------|-------|\n",
    "|bad  |    0.00     |0.00    | 0.00      |  0    |\n",
    "|-----|-------------|--------|-----------|-------|\n",
    "|good |    1.00     |0.64    | 0.78      |  44   |\n",
    "|-----|-------------|--------|-----------|-------|\n",
    "|okay |    0.00     |0.00    | 0.00      |  0    |\n",
    "|-----|-------------|--------|-----------|-------|\n",
    "|total|    1.00     |0.64    | 0.78      |  44   |\n",
    "\n",
    "Accuracy score = 0.63636363636363635\n"
   ]
  },
  {
   "cell_type": "markdown",
   "metadata": {
    "collapsed": true
   },
   "source": [
    "# New get features that takes into account the number of pixels of each color"
   ]
  },
  {
   "cell_type": "code",
   "execution_count": 163,
   "metadata": {
    "collapsed": true
   },
   "outputs": [],
   "source": [
    "def Read_Image(filename):\n",
    "    im = Image.open(filename)\n",
    "    #im = im.crop((550,100,650,500))\n",
    "    pixel_values = list(im.getdata())\n",
    "    #im.show()\n",
    "    #print(pixel_values)\n",
    "    dict_colors = {}\n",
    "    for pixel in pixel_values:\n",
    "        if pixel not in dict_colors:\n",
    "            dict_colors[pixel] = 1\n",
    "        else:\n",
    "            dict_colors[pixel] += 1\n",
    "    blue_red = [0,0] #store number of blues (0) and reds (1)\n",
    "    important_colors = {}\n",
    "    numpixels = [0,0]\n",
    "    for key in dict_colors.keys():\n",
    "        if  dict_colors[key] > 20 and key != (255,255,255,255) and key != (0,0,0,255)and key[0]!=key[2]:\n",
    "            important_colors[key] = dict_colors[key]\n",
    "            (h,s,l) = convert_rgb_hsl(key[0], key[1], key[2])\n",
    "            if l> 20:\n",
    "                if h>(170) and h<(300):#color is blue\n",
    "                    blue_red[0] +=1\n",
    "                    numpixels[0] += dict_colors[key]\n",
    "                else:#color is red\n",
    "                    blue_red[1] +=1\n",
    "                    numpixels[1] += dict_colors[key]\n",
    "    return blue_red, numpixels\n",
    "        "
   ]
  },
  {
   "cell_type": "code",
   "execution_count": 164,
   "metadata": {
    "collapsed": true
   },
   "outputs": [],
   "source": [
    "def getFeaturesPixels(file_list):\n",
    "    feature_list =[[]]*len(file_list)\n",
    "    counter = 0\n",
    "    for file in file_list:\n",
    "        [blue_red, num_pixels] = Read_Image(file)\n",
    "        blue_red.append(num_pixels[0])\n",
    "        blue_red.append(num_pixels[1])\n",
    "        feature_list[counter]=blue_red\n",
    "        counter+=1\n",
    "    return feature_list"
   ]
  },
  {
   "cell_type": "code",
   "execution_count": 170,
   "metadata": {},
   "outputs": [],
   "source": [
    "file_list = os.listdir(os.curdir)\n",
    "file_list = file_list[2:(len(file_list)-1)]\n",
    "x = getFeaturesPixels(file_list)"
   ]
  },
  {
   "cell_type": "markdown",
   "metadata": {},
   "source": [
    "# Try KNN"
   ]
  },
  {
   "cell_type": "code",
   "execution_count": 230,
   "metadata": {},
   "outputs": [
    {
     "data": {
      "text/plain": [
       "KNeighborsClassifier(algorithm='auto', leaf_size=30, metric='minkowski',\n",
       "           metric_params=None, n_jobs=1, n_neighbors=3, p=2,\n",
       "           weights='uniform')"
      ]
     },
     "execution_count": 230,
     "metadata": {},
     "output_type": "execute_result"
    }
   ],
   "source": [
    "from sklearn.model_selection import train_test_split\n",
    "x_train, x_test, y_train, y_test = train_test_split(x, y, test_size=0.2)\n",
    "from sklearn.neighbors import KNeighborsClassifier\n",
    "knn = KNeighborsClassifier(n_neighbors=3)\n",
    "knn.fit(x_train, y_train)"
   ]
  },
  {
   "cell_type": "code",
   "execution_count": 231,
   "metadata": {},
   "outputs": [
    {
     "name": "stdout",
     "output_type": "stream",
     "text": [
      "0.818181818182\n",
      "             precision    recall  f1-score   support\n",
      "\n",
      "        bad       1.00      1.00      1.00         3\n",
      "       good       1.00      0.76      0.86        33\n",
      "       okay       0.50      1.00      0.67         8\n",
      "\n",
      "avg / total       0.91      0.82      0.84        44\n",
      "\n"
     ]
    }
   ],
   "source": [
    "from sklearn import metrics\n",
    "p = knn.predict(x_test)\n",
    "a=metrics.accuracy_score(p, y_test)\n",
    "r=metrics.classification_report(p,y_test)\n",
    "print(a)\n",
    "print(r)"
   ]
  },
  {
   "cell_type": "markdown",
   "metadata": {},
   "source": [
    "|      |precision  |  recall | f1-score  | support|\n",
    "|------|-----------|---------|-----------|--------|\n",
    "|bad   |   1.00    |  1.00   |  0.75     |   3    |\n",
    "|------|-----------|---------|-----------|------- |\n",
    "|good  |   1.00    |  0.76   |  0.86     |   33   |\n",
    "|------|-----------|---------|-----------|--------|\n",
    "|okay  |   0.50    |  1.00   |  0.67     |   8    |\n",
    "|------|-----------|---------|-----------|--------|\n",
    "|total |   0.91    |  0.82   |  0.84     |   44   |\n",
    "\n",
    "Accuracy score = 0.818181818182"
   ]
  },
  {
   "cell_type": "markdown",
   "metadata": {},
   "source": [
    "# Try SVM"
   ]
  },
  {
   "cell_type": "code",
   "execution_count": 211,
   "metadata": {
    "collapsed": true
   },
   "outputs": [],
   "source": [
    "from sklearn.model_selection import train_test_split\n",
    "x_train, x_test, y_train, y_test = train_test_split(x, y, test_size=0.2)"
   ]
  },
  {
   "cell_type": "code",
   "execution_count": 212,
   "metadata": {},
   "outputs": [
    {
     "name": "stdout",
     "output_type": "stream",
     "text": [
      "0.522727272727\n",
      "             precision    recall  f1-score   support\n",
      "\n",
      "        bad       0.50      0.25      0.33         4\n",
      "       good       0.61      0.47      0.53        30\n",
      "       okay       0.21      0.40      0.28        10\n",
      "\n",
      "avg / total       0.51      0.43      0.45        44\n",
      "\n"
     ]
    }
   ],
   "source": [
    "from sklearn import svm\n",
    "clf = svm.SVC(gamma=.007, C=10000)\n",
    "clf.fit(x_train, y_train)  \n",
    "p2 = clf.predict(x_test)\n",
    "a = metrics.accuracy_score(p2, y_test)\n",
    "r = metrics.classification_report(p,y_test)\n",
    "print(a)\n",
    "print(r)"
   ]
  },
  {
   "cell_type": "markdown",
   "metadata": {},
   "source": [
    "|       |precision  |  recall | f1-score  | support| \n",
    "|-------|-----------|---------|-----------|--------|\n",
    "|bad    |   0.50    |   0.25  |   0.33    |     4  |  \n",
    "|-------|-----------|---------|-----------|--------|\n",
    "|good   |   0.61    |   0.47  |   0.53    |    30  | \n",
    "|-------|-----------|---------|-----------|--------|\n",
    "|okay   |   0.21    |   0.40  |   0.28    |    10  |\n",
    "|-------|-----------|---------|-----------|--------|\n",
    "|total  |   0.51    |   0.43  |   0.45    |    44  |\n",
    "\n",
    "\n",
    "\n",
    "Accuracy score = 0.522727272727"
   ]
  },
  {
   "cell_type": "markdown",
   "metadata": {
    "collapsed": true
   },
   "source": [
    "# Evaluate your features try a few different learning algorithms. Describe what algorithms and via which tools you have used.  Evaluate various models and report performance of your model on your test data. You can provide the evaluation on your test data or use cross-validation. Please be communicative about it and let me know what is your approach for improving your initial results. Post your main test results on canvas and codes on your GitHub repository."
   ]
  },
  {
   "cell_type": "markdown",
   "metadata": {},
   "source": [
    "The algorithms used are K-Nearest Neighbors and Support Vector Machine. These are implemented using the scikit learn python package. There are two different feature sets used. The first feature set is when the number of shades of blue and the number of shades of red are used. The second feature set includes the number of pixels that are  blue and red. For KNN, the second feature set resulted in more accurate classifications with k = 3. For SVM, the first data set had the most accurate classifications. In both cases, KNN was more accurate than SVM. The approach taken to improve the results was to add the features number of pixels that are blue and number of pixels that are red. More data was also uploaded and a code to automatically convert PDF files to a list of png files was implemented. Furthermore, in an attempt to improve the by-hand classification of the train/test data a labeling function was implemented."
   ]
  },
  {
   "cell_type": "code",
   "execution_count": null,
   "metadata": {
    "collapsed": true
   },
   "outputs": [],
   "source": []
  }
 ],
 "metadata": {
  "kernelspec": {
   "display_name": "Python 3",
   "language": "python",
   "name": "python3"
  },
  "language_info": {
   "codemirror_mode": {
    "name": "ipython",
    "version": 3
   },
   "file_extension": ".py",
   "mimetype": "text/x-python",
   "name": "python",
   "nbconvert_exporter": "python",
   "pygments_lexer": "ipython3",
   "version": "3.6.1"
  }
 },
 "nbformat": 4,
 "nbformat_minor": 2
}
