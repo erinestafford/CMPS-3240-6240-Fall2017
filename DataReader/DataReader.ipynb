{
 "cells": [
  {
   "cell_type": "code",
   "execution_count": 48,
   "metadata": {
    "collapsed": true
   },
   "outputs": [],
   "source": [
    "from PIL import Image"
   ]
  },
  {
   "cell_type": "code",
   "execution_count": 49,
   "metadata": {},
   "outputs": [],
   "source": [
    "def convert_rgb_hsl(r,g,b):\n",
    "    R = r / 255\n",
    "    G = g / 255\n",
    "    B = b / 255\n",
    "    minimum = min([R,G,B])\n",
    "    maximum = max([R,G,B])\n",
    "    l = ((minimum+maximum)/2)*100\n",
    "    if l>50:\n",
    "        s = ((maximum-minimum)/(2.0-maximum-minimum))*100\n",
    "    else:\n",
    "        s = ((maximum-minimum)/(maximum+minimum))*100\n",
    "\n",
    "    if maximum == R:\n",
    "        h = ((G-B)/(maximum-minimum))*60\n",
    "    elif maximum == G:\n",
    "        h = (2.0 + ((B-R)/(maximum-minimum)))*60\n",
    "    else:\n",
    "        h = (4.0 + ((R-G)/(maximum-minimum)))*60\n",
    "    return (h,s,l)"
   ]
  },
  {
   "cell_type": "code",
   "execution_count": 70,
   "metadata": {},
   "outputs": [],
   "source": [
    "def Read_Image(filename):\n",
    "    pngfile = Image.open(filename)\n",
    "    im = Image.open(filename)\n",
    "    #im.show() \n",
    "    pixel_values = list(im.getdata())\n",
    "    dict_colors = {}\n",
    "    for pixel in pixel_values:\n",
    "        if pixel not in dict_colors:\n",
    "            dict_colors[pixel] = 1\n",
    "        else:\n",
    "            dict_colors[pixel] += 1\n",
    "    blue_red = [0,0] #store number of blues (0) and reds (1)\n",
    "    for key in dict_colors.keys():\n",
    "        if dict_colors[key] > 10 and key != (255,255,255,255) and key != (0,0,0,255) and key[0]!=key[1]!=key[2]:\n",
    "            (h,s,l) = convert_rgb_hsl(key[0], key[1], key[2])\n",
    "            if h>(170) and h<(300):#color is blue\n",
    "                blue_red[0] +=1\n",
    "            else:#color is red\n",
    "                blue_red[1] +=1\n",
    "    return blue_red\n",
    "        "
   ]
  },
  {
   "cell_type": "code",
   "execution_count": 77,
   "metadata": {},
   "outputs": [],
   "source": [
    "def getFeatures(file_list):\n",
    "    feature_list =[[]]*len(file_list)\n",
    "    counter = 0\n",
    "    for file in file_list:\n",
    "        example = Read_Image(file)\n",
    "        feature_list[counter]=example\n",
    "        counter+=1\n",
    "    return feature_list"
   ]
  },
  {
   "cell_type": "code",
   "execution_count": 78,
   "metadata": {},
   "outputs": [
    {
     "data": {
      "text/plain": [
       "[[57, 139], [14, 227]]"
      ]
     },
     "execution_count": 78,
     "metadata": {},
     "output_type": "execute_result"
    }
   ],
   "source": [
    "file_list = ['testData.png','testData2.png']\n",
    "getFeatures(file_list)"
   ]
  },
  {
   "cell_type": "code",
   "execution_count": null,
   "metadata": {
    "collapsed": true
   },
   "outputs": [],
   "source": []
  }
 ],
 "metadata": {
  "kernelspec": {
   "display_name": "Python 3",
   "language": "python",
   "name": "python3"
  },
  "language_info": {
   "codemirror_mode": {
    "name": "ipython",
    "version": 3
   },
   "file_extension": ".py",
   "mimetype": "text/x-python",
   "name": "python",
   "nbconvert_exporter": "python",
   "pygments_lexer": "ipython3",
   "version": "3.6.1"
  }
 },
 "nbformat": 4,
 "nbformat_minor": 2
}
