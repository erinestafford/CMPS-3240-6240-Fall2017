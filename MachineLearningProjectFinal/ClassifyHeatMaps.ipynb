{
 "cells": [
  {
   "cell_type": "code",
   "execution_count": 1,
   "metadata": {
    "collapsed": true
   },
   "outputs": [],
   "source": [
    "def convert_rgb_hsl(r,g,b): #function to convert rgb values to hsl values\n",
    "    R = r / 255\n",
    "    G = g / 255\n",
    "    B = b / 255\n",
    "    minimum = min([R,G,B])\n",
    "    maximum = max([R,G,B])\n",
    "    l = ((minimum+maximum)/2)*100\n",
    "    if l>50:\n",
    "        s = ((maximum-minimum)/(2.0-maximum-minimum))*100\n",
    "    else:\n",
    "        s = ((maximum-minimum)/(maximum+minimum))*100\n",
    "\n",
    "    if maximum == R:\n",
    "        h = ((G-B)/(maximum-minimum))*60\n",
    "    elif maximum == G:\n",
    "        h = (2.0 + ((B-R)/(maximum-minimum)))*60\n",
    "    else:\n",
    "        h = (4.0 + ((R-G)/(maximum-minimum)))*60\n",
    "    return (h,s,l)"
   ]
  },
  {
   "cell_type": "code",
   "execution_count": 2,
   "metadata": {
    "collapsed": true
   },
   "outputs": [],
   "source": [
    "def getTrainingLabels(file_list): #for hand-labeling input data\n",
    "    labels = file_list\n",
    "    counter = 0\n",
    "    for file in file_list:\n",
    "        im = Image.open(file)\n",
    "        im.show()\n",
    "        labels[counter] = input(\"Label: \")\n",
    "        counter += 1\n",
    "    return labels\n",
    "        "
   ]
  },
  {
   "cell_type": "markdown",
   "metadata": {},
   "source": [
    "## Below is a list of data labels for train/test data"
   ]
  },
  {
   "cell_type": "code",
   "execution_count": 3,
   "metadata": {
    "collapsed": true
   },
   "outputs": [],
   "source": [
    "y = ['okay', 'good', 'okay', 'okay', 'good', 'good', 'good', 'okay', 'good', 'good', 'good', 'okay', 'good', 'okay', 'bad', 'bad', 'bad', 'good', 'good', 'okay', 'bad', 'good', 'okay', 'okay', 'okay', 'good', 'okay', 'okay', 'okay', 'okay', 'good', 'good', 'good', 'bad', 'good', 'good', 'okay', 'okay', 'okay', 'good', 'bad', 'bad', 'bad', 'good', 'good', 'okay', 'bad', 'bad', 'good', 'okay', 'good', 'good', 'okay', 'okay', 'okay', 'good', 'okay', 'good', 'good', 'good', 'good', 'good', 'good', 'good', 'good', 'good', 'okay', 'good', 'good', 'good', 'okay', 'good', 'okay', 'good', 'okay', 'okay', 'good', 'good', 'good', 'good', 'good', 'good', 'okay', 'okay', 'okay', 'good', 'okay', 'okay', 'okay', 'good', 'good', 'okay', 'okay', 'good', 'okay', 'good', 'good', 'good', 'good', 'okay', 'good', 'good', 'good', 'okay', 'okay', 'okay', 'good', 'good', 'good', 'good', 'good', 'good', 'okay', 'good', 'okay', 'good', 'good', 'good', 'good', 'okay', 'good', 'good', 'good', 'good', 'good', 'good', 'good', 'good', 'good', 'good', 'good', 'okay', 'good', 'good', 'okay', 'okay', 'good', 'good', 'bad', 'okay', 'okay', 'good', 'bad', 'okay', 'okay', 'good', 'good', 'good', 'good', 'good', 'good', 'good', 'good', 'good', 'good', 'okay', 'good', 'okay', 'okay', 'bad', 'okay', 'okay', 'bad', 'bad', 'okay', 'good', 'good', 'bad', 'good', 'okay', 'good', 'good', 'okay', 'good', 'okay', 'okay', 'good', 'good', 'good', 'good', 'good', 'good', 'okay', 'good', 'good', 'good', 'good', 'good', 'good', 'good', 'good', 'good', 'good', 'good', 'good', 'good', 'okay', 'good', 'good', 'good', 'good', 'good', 'okay', 'okay', 'okay', 'good', 'okay', 'okay', 'okay', 'good', 'good', 'okay', 'good', 'good', 'good', 'good']"
   ]
  },
  {
   "cell_type": "code",
   "execution_count": 30,
   "metadata": {
    "collapsed": true
   },
   "outputs": [],
   "source": [
    "def Read_Image(filename): \n",
    "    # gets features for a given image, which is number of shades of blue and red and the number of pixels of each\n",
    "    im = Image.open(filename) #opens given image file\n",
    "    pixel_values = list(im.getdata()) #loads pixel data from image in RGBA format\n",
    "    dict_colors = {} #creates a dictionary of pixel values\n",
    "    for pixel in pixel_values:\n",
    "        if pixel not in dict_colors: #if a pixel value is not in the list add it\n",
    "            dict_colors[pixel] = 1\n",
    "        else: #increase count by one if it appears again\n",
    "            dict_colors[pixel] += 1\n",
    "    blue_red = [0,0] #stores number of blues (0) and reds (1)\n",
    "    \n",
    "    #want the number of blue and red pixels because we don't want too much white background\n",
    "    \n",
    "    numpixels = [0,0] #stores number of blue pixels (0) and red pixels (1)\n",
    "    \n",
    "    #Since we want to see color gradients and not a lot of pure blue and red, store number of pixels of pure colors\n",
    "    if (0,0,255,255) in dict_colors.keys(): \n",
    "        blue = dict_colors[(0,0,255,255)]\n",
    "    else:\n",
    "        blue = 0\n",
    "        \n",
    "    if (255,0,0,255) in dict_colors.keys():\n",
    "        red = dict_colors[(255,0,0,255)]\n",
    "    else:\n",
    "        red = 0\n",
    "        \n",
    "    solids = [blue, red] #solid blue and red count\n",
    "    for key in dict_colors.keys():\n",
    "        #the if statement makes sure the color is not black, white, or gray\n",
    "        #and checks if the key has more than 20 appearences to account for non-visible color changes\n",
    "        if  dict_colors[key] > 20 and key != (255,255,255,255) and key != (0,0,0,255)and key[0]!=key[2]:\n",
    "            (h,s,l) = convert_rgb_hsl(key[0], key[1], key[2]) #converts to hsl to help determine color\n",
    "            if l> 20: # also makes sure value is not gray\n",
    "                if h>(170) and h<(300):#color is blue\n",
    "                    blue_red[0] +=1\n",
    "                    numpixels[0] += dict_colors[key]\n",
    "                else:#color is red\n",
    "                    blue_red[1] +=1\n",
    "                    numpixels[1] += dict_colors[key]\n",
    "    return blue_red, numpixels, solids\n",
    "        "
   ]
  },
  {
   "cell_type": "code",
   "execution_count": 13,
   "metadata": {
    "collapsed": true
   },
   "outputs": [],
   "source": [
    "def getFeatures(file_list): #gets features for all given images\n",
    "    feature_list =[[]]*len(file_list)\n",
    "    counter = 0\n",
    "    for file in file_list:\n",
    "        [blue_red, num_pixels, solids] = Read_Image(file)\n",
    "        blue_red.append(num_pixels[0])\n",
    "        blue_red.append(num_pixels[1])\n",
    "        blue_red.append(solids[0])\n",
    "        blue_red.append(solids[1])\n",
    "        feature_list[counter]=blue_red\n",
    "        counter+=1\n",
    "    return feature_list"
   ]
  },
  {
   "cell_type": "code",
   "execution_count": 14,
   "metadata": {},
   "outputs": [],
   "source": [
    "import os\n",
    "from PIL import Image\n",
    "file_list = os.listdir(os.curdir)\n",
    "file_list = file_list[2:218] #file_list includes all png files\n",
    "x = getFeatures(file_list)"
   ]
  },
  {
   "cell_type": "markdown",
   "metadata": {},
   "source": [
    "# Use KNN to Classify Images"
   ]
  },
  {
   "cell_type": "code",
   "execution_count": 27,
   "metadata": {},
   "outputs": [
    {
     "data": {
      "text/plain": [
       "KNeighborsClassifier(algorithm='auto', leaf_size=30, metric='minkowski',\n",
       "           metric_params=None, n_jobs=1, n_neighbors=3, p=2,\n",
       "           weights='uniform')"
      ]
     },
     "execution_count": 27,
     "metadata": {},
     "output_type": "execute_result"
    }
   ],
   "source": [
    "from sklearn.model_selection import train_test_split\n",
    "x_train, x_test, y_train, y_test = train_test_split(x, y, test_size=0.2)\n",
    "from sklearn.neighbors import KNeighborsClassifier\n",
    "knn = KNeighborsClassifier(n_neighbors=3)\n",
    "knn.fit(x_train, y_train)"
   ]
  },
  {
   "cell_type": "code",
   "execution_count": 28,
   "metadata": {},
   "outputs": [
    {
     "name": "stdout",
     "output_type": "stream",
     "text": [
      "0.863636363636\n",
      "             precision    recall  f1-score   support\n",
      "\n",
      "        bad       1.00      1.00      1.00         7\n",
      "       good       0.83      0.90      0.86        21\n",
      "       okay       0.86      0.75      0.80        16\n",
      "\n",
      "avg / total       0.87      0.86      0.86        44\n",
      "\n"
     ]
    }
   ],
   "source": [
    "from sklearn import metrics\n",
    "p = knn.predict(x_test)\n",
    "a=metrics.accuracy_score(p, y_test)\n",
    "r=metrics.classification_report(p,y_test)\n",
    "print(a)\n",
    "print(r)"
   ]
  },
  {
   "cell_type": "markdown",
   "metadata": {},
   "source": [
    "|      |precision  |  recall | f1-score  | support|\n",
    "|------|-----------|---------|-----------|--------|\n",
    "|bad   |   1.00    |  1.00   |  1.00     |   7    |\n",
    "|------|-----------|---------|-----------|------- |\n",
    "|good  |   0.83    |  0.90   |  0.86     |   21   |\n",
    "|------|-----------|---------|-----------|--------|\n",
    "|okay  |   0.86    |  0.75   |  0.80     |   16   |\n",
    "|------|-----------|---------|-----------|--------|\n",
    "|total |   0.87    |  0.86   |  0.86     |   44   |\n",
    "\n",
    "## Accuracy score = 0.863636363636"
   ]
  },
  {
   "cell_type": "code",
   "execution_count": 44,
   "metadata": {
    "collapsed": true
   },
   "outputs": [],
   "source": [
    "from sklearn.model_selection import train_test_split\n",
    "from sklearn.neighbors import KNeighborsClassifier\n",
    "def getUsableFiles(file_list, y_train, x_train): # predicts classification of files and returns good and okay ones\n",
    "    x_test = getFeatures(file_list)\n",
    "    knn = KNeighborsClassifier(algorithm='auto', leaf_size=30, metric='minkowski',\n",
    "           metric_params=None, n_jobs=1, n_neighbors=3, p=2,\n",
    "           weights='uniform')\n",
    "    knn.fit(x_train, y_train)\n",
    "    predictions = knn.predict(x_test)\n",
    "    good_okay = []\n",
    "    for i in range(len(predictions)):\n",
    "        if (predictions[i] == 'good') or (predictions[i] == 'okay'):\n",
    "            good_okay.append(file_list[i])\n",
    "    return good_okay"
   ]
  },
  {
   "cell_type": "code",
   "execution_count": 47,
   "metadata": {},
   "outputs": [],
   "source": [
    "y_train = ['okay', 'good', 'okay', 'okay', 'good', 'good', 'good', 'okay', 'good', 'good', 'good', 'okay', 'good', 'okay', 'bad', 'bad', 'bad', 'good', 'good', 'okay', 'bad', 'good', 'okay', 'okay', 'okay', 'good', 'okay', 'okay', 'okay', 'okay', 'good', 'good', 'good', 'bad', 'good', 'good', 'okay', 'okay', 'okay', 'good', 'bad', 'bad', 'bad', 'good', 'good', 'okay', 'bad', 'bad', 'good', 'okay', 'good', 'good', 'okay', 'okay', 'okay', 'good', 'okay', 'good', 'good', 'good', 'good', 'good', 'good', 'good', 'good', 'good', 'okay', 'good', 'good', 'good', 'okay', 'good', 'okay', 'good', 'okay', 'okay', 'good', 'good', 'good', 'good', 'good', 'good', 'okay', 'okay', 'okay', 'good', 'okay', 'okay', 'okay', 'good', 'good', 'okay', 'okay', 'good', 'okay', 'good', 'good', 'good', 'good', 'okay', 'good', 'good', 'good', 'okay', 'okay', 'okay', 'good', 'good', 'good', 'good', 'good', 'good', 'okay', 'good', 'okay', 'good', 'good', 'good', 'good', 'okay', 'good', 'good', 'good', 'good', 'good', 'good', 'good', 'good', 'good', 'good', 'good', 'okay', 'good', 'good', 'okay', 'okay', 'good', 'good', 'bad', 'okay', 'okay', 'good', 'bad', 'okay', 'okay', 'good', 'good', 'good', 'good', 'good', 'good', 'good', 'good', 'good', 'good', 'okay', 'good', 'okay', 'okay', 'bad', 'okay', 'okay', 'bad', 'bad', 'okay', 'good', 'good', 'bad', 'good', 'okay', 'good', 'good', 'okay', 'good', 'okay', 'okay', 'good', 'good', 'good', 'good', 'good', 'good', 'okay', 'good', 'good', 'good', 'good', 'good', 'good', 'good', 'good', 'good', 'good', 'good', 'good', 'good', 'okay', 'good', 'good', 'good', 'good', 'good', 'okay', 'okay', 'okay', 'good', 'okay', 'okay', 'okay', 'good', 'good', 'okay', 'good', 'good', 'good', 'good']\n",
    "file_list = os.listdir(os.curdir)\n",
    "file_list = file_list[2:218] #file_list includes all png files\n",
    "usable = getUsableFiles(file_list, y_train, x_train)\n",
    "#to view the images:\n",
    "#for image in usable:\n",
    "    #im = Image.open(image)\n",
    "    #im.show()"
   ]
  },
  {
   "cell_type": "code",
   "execution_count": null,
   "metadata": {
    "collapsed": true
   },
   "outputs": [],
   "source": []
  }
 ],
 "metadata": {
  "kernelspec": {
   "display_name": "Python 3",
   "language": "python",
   "name": "python3"
  },
  "language_info": {
   "codemirror_mode": {
    "name": "ipython",
    "version": 3
   },
   "file_extension": ".py",
   "mimetype": "text/x-python",
   "name": "python",
   "nbconvert_exporter": "python",
   "pygments_lexer": "ipython3",
   "version": "3.6.1"
  }
 },
 "nbformat": 4,
 "nbformat_minor": 2
}
