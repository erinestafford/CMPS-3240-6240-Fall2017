{
 "cells": [
  {
   "cell_type": "code",
   "execution_count": 1,
   "metadata": {
    "collapsed": true
   },
   "outputs": [],
   "source": [
    "def convert_rgb_hsl(r,g,b):\n",
    "    R = r / 255\n",
    "    G = g / 255\n",
    "    B = b / 255\n",
    "    minimum = min([R,G,B])\n",
    "    maximum = max([R,G,B])\n",
    "    l = ((minimum+maximum)/2)*100\n",
    "    if l>50:\n",
    "        s = ((maximum-minimum)/(2.0-maximum-minimum))*100\n",
    "    else:\n",
    "        s = ((maximum-minimum)/(maximum+minimum))*100\n",
    "\n",
    "    if maximum == R:\n",
    "        h = ((G-B)/(maximum-minimum))*60\n",
    "    elif maximum == G:\n",
    "        h = (2.0 + ((B-R)/(maximum-minimum)))*60\n",
    "    else:\n",
    "        h = (4.0 + ((R-G)/(maximum-minimum)))*60\n",
    "    return (h,s,l)"
   ]
  },
  {
   "cell_type": "code",
   "execution_count": 2,
   "metadata": {
    "collapsed": true
   },
   "outputs": [],
   "source": [
    "def Read_Image(filename):\n",
    "    im = Image.open(filename)\n",
    "    #im = im.crop((550,100,650,500))\n",
    "    pixel_values = list(im.getdata())\n",
    "    #im.show()\n",
    "    #print(pixel_values)\n",
    "    dict_colors = {}\n",
    "    for pixel in pixel_values:\n",
    "        if pixel not in dict_colors:\n",
    "            dict_colors[pixel] = 1\n",
    "        else:\n",
    "            dict_colors[pixel] += 1\n",
    "    blue_red = [0,0] #store number of blues (0) and reds (1)\n",
    "    for key in dict_colors.keys():\n",
    "        if  dict_colors[key] > 20 and key != (255,255,255,255) and key != (0,0,0,255)and key[0]!=key[2]:\n",
    "            (h,s,l) = convert_rgb_hsl(key[0], key[1], key[2])\n",
    "            if l> 20:\n",
    "                if h>(170) and h<(300):#color is blue\n",
    "                    #print(key)\n",
    "                    #print('h = '+ str(h))\n",
    "                    #print('s = '+ str(s))\n",
    "                    #print('l = '+ str(l))\n",
    "                    blue_red[0] +=1\n",
    "                else:#color is red\n",
    "                    blue_red[1] +=1\n",
    "    return blue_red\n",
    "        "
   ]
  },
  {
   "cell_type": "code",
   "execution_count": 3,
   "metadata": {
    "collapsed": true
   },
   "outputs": [],
   "source": [
    "def getFeatures(file_list):\n",
    "    feature_list =[[]]*len(file_list)\n",
    "    counter = 0\n",
    "    for file in file_list:\n",
    "        example = Read_Image(file)\n",
    "        feature_list[counter]=example\n",
    "        counter+=1\n",
    "    return feature_list"
   ]
  },
  {
   "cell_type": "code",
   "execution_count": 10,
   "metadata": {},
   "outputs": [],
   "source": [
    "import os\n",
    "import numpy as np\n",
    "from PIL import Image\n",
    "file_list = os.listdir(os.curdir)\n",
    "file_list = file_list[1:(len(file_list)-1)]\n",
    "x = getFeatures(file_list)"
   ]
  },
  {
   "cell_type": "code",
   "execution_count": 11,
   "metadata": {
    "collapsed": true
   },
   "outputs": [],
   "source": [
    "y = ['bad','okay','okay','okay', 'good','good','good','okay','good','good','good','bad', 'good','bad','bad','bad','bad', 'good','good', 'okay', 'bad','good', 'okay', 'good', 'okay', 'good', 'okay', 'okay', 'okay', 'okay', 'good', 'good', 'good', 'bad',  'good', 'good','okay','okay', 'okay', 'good', 'okay', 'bad',  'bad',  'good', 'okay', 'okay', 'bad',  'bad',  'good', 'okay', 'good', 'good', 'okay', 'okay', 'okay', 'good', 'okay', 'good', 'good', 'good', 'good', 'good', 'good', 'good', 'good', 'okay', 'okay', 'good', 'good', 'good', 'okay', 'good','okay','good','bad','okay', 'good','good','good','good','good', 'good','good','okay', 'okay', 'good','okay','okay', 'okay','good','good','okay','okay','good','okay', 'good', 'good', 'good', 'good', 'okay','good', 'good', 'good', 'okay', 'okay', 'okay', 'good', 'good', 'good', 'good', 'okay', 'okay', 'good', 'good', 'bad', 'bad', 'okay']"
   ]
  },
  {
   "cell_type": "code",
   "execution_count": 50,
   "metadata": {},
   "outputs": [
    {
     "data": {
      "text/plain": [
       "KNeighborsClassifier(algorithm='auto', leaf_size=30, metric='minkowski',\n",
       "           metric_params=None, n_jobs=1, n_neighbors=8, p=2,\n",
       "           weights='uniform')"
      ]
     },
     "execution_count": 50,
     "metadata": {},
     "output_type": "execute_result"
    }
   ],
   "source": [
    "from sklearn.model_selection import train_test_split\n",
    "x_train, x_test, y_train, y_test = train_test_split(x, y, test_size=0.2)\n",
    "from sklearn.neighbors import KNeighborsClassifier\n",
    "knn = KNeighborsClassifier(n_neighbors=8)\n",
    "knn.fit(x_train, y_train)"
   ]
  },
  {
   "cell_type": "code",
   "execution_count": 51,
   "metadata": {},
   "outputs": [
    {
     "data": {
      "text/plain": [
       "0.83333333333333337"
      ]
     },
     "execution_count": 51,
     "metadata": {},
     "output_type": "execute_result"
    }
   ],
   "source": [
    "from sklearn import metrics\n",
    "p = knn.predict(x_test)\n",
    "metrics.accuracy_score(p, y_test)"
   ]
  },
  {
   "cell_type": "markdown",
   "metadata": {
    "collapsed": true
   },
   "source": [
    "Accuracy of KNN (k=8) = 0.83333333333333337\n",
    "\n",
    "One reason for innaccuracy is that classifications used for training are done bby hand and may be inconsistent."
   ]
  },
  {
   "cell_type": "code",
   "execution_count": 62,
   "metadata": {},
   "outputs": [
    {
     "data": {
      "text/plain": [
       "0.75"
      ]
     },
     "execution_count": 62,
     "metadata": {},
     "output_type": "execute_result"
    }
   ],
   "source": [
    "from sklearn import svm\n",
    "clf = svm.SVC(gamma=.007, C=5)\n",
    "clf.fit(x_train, y_train)  \n",
    "p2 = clf.predict(x_test)\n",
    "metrics.accuracy_score(p2, y_test)"
   ]
  },
  {
   "cell_type": "markdown",
   "metadata": {},
   "source": [
    "Accuracy of Using SVM classification = 0.75"
   ]
  },
  {
   "cell_type": "markdown",
   "metadata": {},
   "source": [
    "# Report summary: \n",
    "\n",
    "Although K Nearest Neighbor was more accurate, it is not consistent when the training set varies. Sometime k=4 or k=3 are more accurate if the training set is different. \n",
    "\n",
    "The accuracy of the SVM also varied when the training set was varied. "
   ]
  },
  {
   "cell_type": "code",
   "execution_count": null,
   "metadata": {
    "collapsed": true
   },
   "outputs": [],
   "source": []
  }
 ],
 "metadata": {
  "kernelspec": {
   "display_name": "Python 3",
   "language": "python",
   "name": "python3"
  },
  "language_info": {
   "codemirror_mode": {
    "name": "ipython",
    "version": 3
   },
   "file_extension": ".py",
   "mimetype": "text/x-python",
   "name": "python",
   "nbconvert_exporter": "python",
   "pygments_lexer": "ipython3",
   "version": "3.6.1"
  }
 },
 "nbformat": 4,
 "nbformat_minor": 2
}
